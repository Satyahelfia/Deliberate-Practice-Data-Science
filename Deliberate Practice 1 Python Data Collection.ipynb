{
 "cells": [
  {
   "cell_type": "markdown",
   "id": "f240863d",
   "metadata": {},
   "source": [
    "# List "
   ]
  },
  {
   "cell_type": "raw",
   "id": "84fc8d7b",
   "metadata": {},
   "source": [
    "List is the most versatile data type available in Python, which can be written as a comma-separated list of values (items) between square brackets."
   ]
  },
  {
   "cell_type": "code",
   "execution_count": 1,
   "id": "0f64ed7b",
   "metadata": {},
   "outputs": [
    {
     "name": "stdout",
     "output_type": "stream",
     "text": [
      "Ferrari\n"
     ]
    },
    {
     "data": {
      "text/plain": [
       "list"
      ]
     },
     "execution_count": 1,
     "metadata": {},
     "output_type": "execute_result"
    }
   ],
   "source": [
    "car=[\"mercedes\",\"BMW\",\"Ferrari\",\"Toyota\"]\n",
    "print(car[2])\n",
    "(type(car))"
   ]
  },
  {
   "cell_type": "code",
   "execution_count": 2,
   "id": "8ec63477",
   "metadata": {},
   "outputs": [
    {
     "data": {
      "text/plain": [
       "['cat', 'cow', 'elephan']"
      ]
     },
     "execution_count": 2,
     "metadata": {},
     "output_type": "execute_result"
    }
   ],
   "source": [
    "#sub list using slice\n",
    "y  = ['cat','cow','elephan','fish','horse']\n",
    "y[0:3]\n"
   ]
  },
  {
   "cell_type": "code",
   "execution_count": 3,
   "id": "06f4807d",
   "metadata": {},
   "outputs": [
    {
     "data": {
      "text/plain": [
       "[10, 20, 30, 50, 40]"
      ]
     },
     "execution_count": 3,
     "metadata": {},
     "output_type": "execute_result"
    }
   ],
   "source": [
    "#add list elements using \"append\"\n",
    "x = [10,20,30,50]\n",
    "x.append(40)\n",
    "x"
   ]
  },
  {
   "cell_type": "code",
   "execution_count": 4,
   "id": "c662a1b9",
   "metadata": {},
   "outputs": [
    {
     "data": {
      "text/plain": [
       "[10, 20, 90, 30, 50]"
      ]
     },
     "execution_count": 4,
     "metadata": {},
     "output_type": "execute_result"
    }
   ],
   "source": [
    "#add list elements using \"insert\"\n",
    "x = [10,20,30,50]\n",
    "x.insert(2,90)\n",
    "x"
   ]
  },
  {
   "cell_type": "code",
   "execution_count": 5,
   "id": "01d9373e",
   "metadata": {},
   "outputs": [
    {
     "data": {
      "text/plain": [
       "[10, 20, 30, 50, 66, 77, 88]"
      ]
     },
     "execution_count": 5,
     "metadata": {},
     "output_type": "execute_result"
    }
   ],
   "source": [
    "#add list elements using \"extend\"\n",
    "x = [10,20,30,50]\n",
    "x.extend([66,77,88])\n",
    "x"
   ]
  },
  {
   "cell_type": "code",
   "execution_count": 6,
   "id": "ece72495",
   "metadata": {},
   "outputs": [
    {
     "data": {
      "text/plain": [
       "[10, 20, 40, 50]"
      ]
     },
     "execution_count": 6,
     "metadata": {},
     "output_type": "execute_result"
    }
   ],
   "source": [
    "#remove a list element using \"del\"\n",
    "x = [10,20,30,40,50]\n",
    "del x[2] #removes the second order list element (starting from 0)\n",
    "x"
   ]
  },
  {
   "cell_type": "code",
   "execution_count": 7,
   "id": "5b5b29a1",
   "metadata": {},
   "outputs": [
    {
     "data": {
      "text/plain": [
       "[10, 30, 40, 50]"
      ]
     },
     "execution_count": 7,
     "metadata": {},
     "output_type": "execute_result"
    }
   ],
   "source": [
    "#remove a list element using \"remove\"\n",
    "x = [10,20,30,40,50]\n",
    "x.remove(20)\n",
    "x"
   ]
  },
  {
   "cell_type": "code",
   "execution_count": 8,
   "id": "2fce08b8",
   "metadata": {},
   "outputs": [
    {
     "data": {
      "text/plain": [
       "[10, 20, 30, 40]"
      ]
     },
     "execution_count": 8,
     "metadata": {},
     "output_type": "execute_result"
    }
   ],
   "source": [
    "#remove a list element using \"pop\"\n",
    "x = [10,20,30,40,50]\n",
    "nilai = x.pop()\n",
    "nilai = 50\n",
    "x"
   ]
  },
  {
   "cell_type": "code",
   "execution_count": 9,
   "id": "8ca76727",
   "metadata": {},
   "outputs": [
    {
     "name": "stdout",
     "output_type": "stream",
     "text": [
      "[10, 20, 30, 40, 50]\n",
      "[10, 20, 30, 40, 50]\n"
     ]
    }
   ],
   "source": [
    "#1a. Sort list elements\n",
    "\n",
    "x = [50,10,40,20,30] #using sorted function\n",
    "y = sorted(x)\n",
    "print(y)\n",
    "\n",
    "x = [50,10,40,20,30] #using method sort\n",
    "x.sort()\n",
    "print(x)"
   ]
  },
  {
   "cell_type": "code",
   "execution_count": 10,
   "id": "dab182e7",
   "metadata": {},
   "outputs": [
    {
     "data": {
      "text/plain": [
       "[30, 20, 40, 10, 50]"
      ]
     },
     "execution_count": 10,
     "metadata": {},
     "output_type": "execute_result"
    }
   ],
   "source": [
    "#1b. Reverse the order of list elements\n",
    "\n",
    "x = [50,10,40,20,30] #using reverse function\n",
    "x.reverse()\n",
    "x"
   ]
  },
  {
   "cell_type": "code",
   "execution_count": 11,
   "id": "d3622a1a",
   "metadata": {},
   "outputs": [
    {
     "name": "stdout",
     "output_type": "stream",
     "text": [
      "100\n",
      "500\n"
     ]
    }
   ],
   "source": [
    "#1c. Finding maximum and minimum values\n",
    "x = [300, 210, 500, 100, 150]\n",
    "print (min(x))\n",
    "print (max(x))"
   ]
  },
  {
   "cell_type": "markdown",
   "id": "543ce63f",
   "metadata": {},
   "source": [
    "# Dictionary"
   ]
  },
  {
   "cell_type": "raw",
   "id": "13de8db9",
   "metadata": {},
   "source": [
    "-Dictionaries are used to create group data when the member values can change, but the indexes can be self-defined\n",
    "- The dictionary is created with a prefix ({ }) and each member is a key-value pair.\n",
    "- The key and value are separated by a colon (:)."
   ]
  },
  {
   "cell_type": "code",
   "execution_count": 12,
   "id": "05a9d81c",
   "metadata": {},
   "outputs": [
    {
     "name": "stdout",
     "output_type": "stream",
     "text": [
      "{1: 100, 2: 200, 3: 300, 4: 400, 5: 500}\n"
     ]
    },
    {
     "data": {
      "text/plain": [
       "'\\n- d is a dictionary whose elements are indexed from 1 to 5.\\n- Accessing the elements of the dictionary is like a list using the bracket ([]) tag.\\n'"
      ]
     },
     "execution_count": 12,
     "metadata": {},
     "output_type": "execute_result"
    }
   ],
   "source": [
    "d = {1:100, 2:200, 3:300, 4:400, 5:500}\n",
    "print(d)\n",
    "(type(d))\n",
    "\"\"\"\n",
    "- d is a dictionary whose elements are indexed from 1 to 5.\n",
    "- Accessing the elements of the dictionary is like a list using the bracket ([]) tag.\n",
    "\"\"\""
   ]
  },
  {
   "cell_type": "code",
   "execution_count": 13,
   "id": "d00c7043",
   "metadata": {},
   "outputs": [
    {
     "name": "stdout",
     "output_type": "stream",
     "text": [
      "100\n",
      "200\n",
      "\n",
      "100\n",
      "200\n"
     ]
    }
   ],
   "source": [
    "d = {1:100, 2:200, 3:300, 4:400, 5:500}\n",
    "print(d[1])\n",
    "print(d[2])\n",
    "print(\"\")\n",
    "print(d.get(1))\n",
    "print(d.get(2))"
   ]
  },
  {
   "cell_type": "code",
   "execution_count": 14,
   "id": "a39d9690",
   "metadata": {},
   "outputs": [
    {
     "name": "stdout",
     "output_type": "stream",
     "text": [
      "100\n",
      "200\n",
      "\n",
      "100\n",
      "200\n"
     ]
    }
   ],
   "source": [
    "# The index of the dictionary does not have to be an integer type, but can also be a string.\n",
    "d = {'one':100, 'two':200, 'three':300, 'four':400, 'five':500}\n",
    "print(d['one'])\n",
    "print(d['two'])\n",
    "print(\"\")\n",
    "print(d.get('one'))\n",
    "print(d.get('two'))"
   ]
  },
  {
   "cell_type": "code",
   "execution_count": 15,
   "id": "b80a278c",
   "metadata": {},
   "outputs": [
    {
     "name": "stdout",
     "output_type": "stream",
     "text": [
      "A001\n",
      "Giannis\n",
      "29000000\n"
     ]
    }
   ],
   "source": [
    "# The dictionary element values can be of any type and are not of the same type.\n",
    "employee = {\n",
    "    'id'    : \"A001\",\n",
    "    'name'  : \"Giannis\",\n",
    "    'salary': 29000000\n",
    "}\n",
    "print(employee['id'])\n",
    "print(employee['name'])\n",
    "print(employee['salary'])"
   ]
  },
  {
   "cell_type": "code",
   "execution_count": 16,
   "id": "60b86fb5",
   "metadata": {},
   "outputs": [
    {
     "data": {
      "text/plain": [
       "{'one': 100, 'two': 200, 'three': 300}"
      ]
     },
     "execution_count": 16,
     "metadata": {},
     "output_type": "execute_result"
    }
   ],
   "source": [
    "# Adding the dictionary element\n",
    "d = {}\n",
    "d['one'] = 100\n",
    "d['two'] = 200\n",
    "d['three'] = 300\n",
    "d"
   ]
  },
  {
   "cell_type": "code",
   "execution_count": 17,
   "id": "b50706c1",
   "metadata": {},
   "outputs": [
    {
     "name": "stdout",
     "output_type": "stream",
     "text": [
      "{'one': 99, 'two': 200, 'three': 300, 'four': 400, 'five': 500}\n"
     ]
    },
    {
     "data": {
      "text/plain": [
       "5"
      ]
     },
     "execution_count": 17,
     "metadata": {},
     "output_type": "execute_result"
    }
   ],
   "source": [
    "# Changing the dictionary element\n",
    "d = {'one':100, 'two':200, 'three':300, 'four':400, 'five':500}\n",
    "d['one'] = 99\n",
    "print(d)\n",
    "(len(d))"
   ]
  },
  {
   "cell_type": "code",
   "execution_count": 18,
   "id": "734d66b7",
   "metadata": {},
   "outputs": [
    {
     "data": {
      "text/plain": [
       "{'two': 200, 'three': 300, 'four': 400, 'five': 500}"
      ]
     },
     "execution_count": 18,
     "metadata": {},
     "output_type": "execute_result"
    }
   ],
   "source": [
    "# Removing dictionary elements\n",
    "d = {'one':100, 'two':200, 'three':300, 'four':400, 'five':500}\n",
    "del d['one']\n",
    "d"
   ]
  },
  {
   "cell_type": "markdown",
   "id": "4378edf4",
   "metadata": {},
   "source": [
    "# Tuple"
   ]
  },
  {
   "cell_type": "raw",
   "id": "8ac185e2",
   "metadata": {},
   "source": [
    "- Tuple is used to create grouped data where the value of each member cannot be changed.\n",
    "- Tuple is created with brackets ()"
   ]
  },
  {
   "cell_type": "code",
   "execution_count": 19,
   "id": "10b4a79a",
   "metadata": {},
   "outputs": [
    {
     "name": "stdout",
     "output_type": "stream",
     "text": [
      "(10, 20, 30, 40, 50, 20, 70, 30, 30)\n",
      "10\n",
      "3\n"
     ]
    },
    {
     "data": {
      "text/plain": [
       "tuple"
      ]
     },
     "execution_count": 19,
     "metadata": {},
     "output_type": "execute_result"
    }
   ],
   "source": [
    "t = (10,20,30,40,50,20,70,30,30)\n",
    "print(t)\n",
    "print(t[0])\n",
    "print(t.count(30))\n",
    "(type(t))\n"
   ]
  },
  {
   "cell_type": "markdown",
   "id": "02989087",
   "metadata": {},
   "source": [
    "# Set"
   ]
  },
  {
   "cell_type": "raw",
   "id": "f15b59b1",
   "metadata": {},
   "source": [
    "- Set is used to create grouped data that has no duplication of data\n",
    "- Data comes from list, dictionary, tuple, or string"
   ]
  },
  {
   "cell_type": "code",
   "execution_count": 20,
   "id": "bbb71666",
   "metadata": {},
   "outputs": [
    {
     "name": "stdout",
     "output_type": "stream",
     "text": [
      "{10, 20, 30}\n"
     ]
    },
    {
     "data": {
      "text/plain": [
       "list"
      ]
     },
     "execution_count": 20,
     "metadata": {},
     "output_type": "execute_result"
    }
   ],
   "source": [
    "a = [10, 20, 30]\n",
    "s = set(a)\n",
    "print(s)\n",
    "(type(a))"
   ]
  },
  {
   "cell_type": "code",
   "execution_count": 21,
   "id": "1ebb17b5",
   "metadata": {},
   "outputs": [
    {
     "data": {
      "text/plain": [
       "{10, 20, 30, 40}"
      ]
     },
     "execution_count": 21,
     "metadata": {},
     "output_type": "execute_result"
    }
   ],
   "source": [
    "\"\"\"\n",
    "- Set is used to produce a set or group of data where each element is unique.\n",
    "- The set is an object of the set class\n",
    "- If the source data has several elements in common then those elements will automatically be removed.\n",
    "\"\"\"\n",
    "a = [10, 20, 10, 10, 30, 40, 20]\n",
    "s = set(a)\n",
    "s"
   ]
  },
  {
   "cell_type": "code",
   "execution_count": 22,
   "id": "dac55b04",
   "metadata": {},
   "outputs": [
    {
     "data": {
      "text/plain": [
       "{10, 20, 40, 50}"
      ]
     },
     "execution_count": 22,
     "metadata": {},
     "output_type": "execute_result"
    }
   ],
   "source": [
    "#adding set elements\n",
    "a = [10, 20, 50, 50]\n",
    "s = set(a)\n",
    "s.add(40) #using add\n",
    "s"
   ]
  }
 ],
 "metadata": {
  "kernelspec": {
   "display_name": "Python 3 (ipykernel)",
   "language": "python",
   "name": "python3"
  },
  "language_info": {
   "codemirror_mode": {
    "name": "ipython",
    "version": 3
   },
   "file_extension": ".py",
   "mimetype": "text/x-python",
   "name": "python",
   "nbconvert_exporter": "python",
   "pygments_lexer": "ipython3",
   "version": "3.9.12"
  }
 },
 "nbformat": 4,
 "nbformat_minor": 5
}
