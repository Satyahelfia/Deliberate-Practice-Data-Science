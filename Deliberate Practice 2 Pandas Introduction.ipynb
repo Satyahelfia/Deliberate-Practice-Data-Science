{
 "cells": [
  {
   "cell_type": "markdown",
   "id": "fcf00041",
   "metadata": {},
   "source": [
    "# What is Pandas?"
   ]
  },
  {
   "cell_type": "raw",
   "id": "1c843e7a",
   "metadata": {},
   "source": [
    "Pandas is a Python library used for working with data sets.\n",
    "It has functions for analyzing, cleaning, exploring, and manipulating data.\n",
    "The name \"Pandas\" has a reference to both \"Panel Data\", and \"Python Data Analysis\" and was created by Wes McKinney in 2008.\n",
    "\n",
    "Why Use Pandas?\n",
    "Pandas allows us to analyze big data and make conclusions based on statistical theories. Pandas can clean messy data sets, and make them readable and relevant.\n",
    "Relevant data is very important in data science.\n",
    "\n",
    "What Can Pandas Do?\n",
    "Pandas gives you answers about the data. Like:\n",
    "- Is there a correlation between two or more columns?\n",
    "- What is average value?\n",
    "- Max value?\n",
    "- Min value?\n",
    "Pandas are also able to delete rows that are not relevant, or contains wrong values, like empty or NULL values. This is called cleaning the data."
   ]
  },
  {
   "cell_type": "code",
   "execution_count": 1,
   "id": "e2d2c627",
   "metadata": {},
   "outputs": [
    {
     "name": "stdout",
     "output_type": "stream",
     "text": [
      "0    1\n",
      "1    7\n",
      "2    2\n",
      "dtype: int64\n"
     ]
    }
   ],
   "source": [
    "# Create a simple Pandas Series from a list\n",
    "import pandas as pd\n",
    "a = [1, 7, 2]\n",
    "var = pd.Series(a)\n",
    "print(var)"
   ]
  },
  {
   "cell_type": "raw",
   "id": "49c6aaff",
   "metadata": {},
   "source": [
    "Output description: Each row in the output represents an index and value pair of Series objects. Indices start from 0 by default, and values are derived from the given list a. The data type 'int64' indicates that the values in the Series are 64-bit integers."
   ]
  },
  {
   "cell_type": "code",
   "execution_count": 2,
   "id": "a76c3b41",
   "metadata": {},
   "outputs": [
    {
     "name": "stdout",
     "output_type": "stream",
     "text": [
      "x    1\n",
      "y    7\n",
      "z    2\n",
      "dtype: int64\n",
      "7\n"
     ]
    }
   ],
   "source": [
    "# Create Labels\n",
    "a = [1, 7, 2]\n",
    "var = pd.Series(a, index = [\"x\", \"y\", \"z\"])\n",
    "print(var)\n",
    "print(var[\"y\"])"
   ]
  },
  {
   "cell_type": "raw",
   "id": "505cdf2b",
   "metadata": {},
   "source": [
    "Output description : Each row shows index and value pairs, similar to before. However, this time the indices are no longer the default indices (0, 1, 2), but [\"x\", \"y\", \"z\"] as specified. The data type 'int64' indicates that the values in the Series are 64-bit integers."
   ]
  },
  {
   "cell_type": "code",
   "execution_count": 3,
   "id": "688cd9eb",
   "metadata": {},
   "outputs": [
    {
     "name": "stdout",
     "output_type": "stream",
     "text": [
      "day1    420\n",
      "day2    380\n",
      "day3    390\n",
      "dtype: int64\n"
     ]
    }
   ],
   "source": [
    "# Create a simple Pandas Series from a dictionary\n",
    "calories = {\"day1\": 420, \"day2\": 380, \"day3\": 390}\n",
    "var = pd.Series(calories)\n",
    "print(var)"
   ]
  },
  {
   "cell_type": "code",
   "execution_count": 4,
   "id": "dce6a800",
   "metadata": {},
   "outputs": [
    {
     "name": "stdout",
     "output_type": "stream",
     "text": [
      "   calories  duration\n",
      "0       420        50\n",
      "1       380        40\n",
      "2       390        45\n"
     ]
    }
   ],
   "source": [
    "# Create a DataFrame from two Series\n",
    "data = {\n",
    "  \"calories\": [420, 380, 390],\n",
    "  \"duration\": [50, 40, 45]\n",
    "}\n",
    "var = pd.DataFrame(data)\n",
    "print(var)"
   ]
  },
  {
   "cell_type": "markdown",
   "id": "c8b2ab8c",
   "metadata": {},
   "source": [
    "# Pandas DataFrames"
   ]
  },
  {
   "cell_type": "raw",
   "id": "1a1f83dd",
   "metadata": {},
   "source": [
    "What is a DataFrame?\n",
    "A Pandas DataFrame is a 2 dimensional data structure, like a 2 dimensional array, or a table with rows and columns."
   ]
  },
  {
   "cell_type": "code",
   "execution_count": 5,
   "id": "2b16158f",
   "metadata": {},
   "outputs": [
    {
     "name": "stdout",
     "output_type": "stream",
     "text": [
      "   calories  duration\n",
      "0       420        50\n",
      "1       380        40\n",
      "2       390        45\n"
     ]
    }
   ],
   "source": [
    "data = {\n",
    "  \"calories\": [420, 380, 390],\n",
    "  \"duration\": [50, 40, 45]\n",
    "}\n",
    "\n",
    "#load data into a DataFrame object:\n",
    "df = pd.DataFrame(data)\n",
    "print(df)"
   ]
  },
  {
   "cell_type": "code",
   "execution_count": 6,
   "id": "ea1bec7c",
   "metadata": {},
   "outputs": [
    {
     "name": "stdout",
     "output_type": "stream",
     "text": [
      "calories    420\n",
      "duration     50\n",
      "Name: 0, dtype: int64\n"
     ]
    }
   ],
   "source": [
    "# Locate Row\n",
    "print(df.loc[0])"
   ]
  },
  {
   "cell_type": "raw",
   "id": "cf11373f",
   "metadata": {},
   "source": [
    "Output description : the \"calories\" and \"duration\" columns are displayed together with the values in the first row (index 0) of the DataFrame."
   ]
  },
  {
   "cell_type": "code",
   "execution_count": 7,
   "id": "32fd0168",
   "metadata": {},
   "outputs": [
    {
     "name": "stdout",
     "output_type": "stream",
     "text": [
      "   calories  duration\n",
      "0       420        50\n",
      "1       380        40\n"
     ]
    }
   ],
   "source": [
    "# Use a list of indexes:\n",
    "print(df.loc[[0, 1]])"
   ]
  },
  {
   "cell_type": "raw",
   "id": "e84df3cc",
   "metadata": {},
   "source": [
    "Output description : this output is a two-row representation of the DataFrame that corresponds to the index retrieved using df.loc[[0, 1]]"
   ]
  },
  {
   "cell_type": "code",
   "execution_count": 8,
   "id": "e1ef5969",
   "metadata": {},
   "outputs": [
    {
     "name": "stdout",
     "output_type": "stream",
     "text": [
      "      calories  duration\n",
      "day1       420        50\n",
      "day2       380        40\n",
      "day3       390        45\n"
     ]
    }
   ],
   "source": [
    "# Add a list of names to give each row a name\n",
    "df = pd.DataFrame(data, index = [\"day1\", \"day2\", \"day3\"])\n",
    "print(df)"
   ]
  },
  {
   "cell_type": "raw",
   "id": "5a1bfd7f",
   "metadata": {},
   "source": [
    "Output description : The index of this DataFrame row is now determined by [\"day1\", \"day2\", \"day3\"], which is adjusted to the value given in the index parameter. This output provides a more descriptive representation of the data, as the index now reflects the associated information (\"day1\", \"day2\", \"day3\")."
   ]
  },
  {
   "cell_type": "code",
   "execution_count": 9,
   "id": "c6093bd9",
   "metadata": {},
   "outputs": [
    {
     "name": "stdout",
     "output_type": "stream",
     "text": [
      "calories    380\n",
      "duration     40\n",
      "Name: day2, dtype: int64\n"
     ]
    }
   ],
   "source": [
    "print(df.loc[\"day2\"])"
   ]
  },
  {
   "cell_type": "raw",
   "id": "d82a97d1",
   "metadata": {},
   "source": [
    "Load Files Into a DataFrame\n",
    "If your data sets are stored in a file, Pandas can load them into a DataFrame."
   ]
  },
  {
   "cell_type": "markdown",
   "id": "68fc37ae",
   "metadata": {},
   "source": [
    "# Pandas Read CSV Files"
   ]
  },
  {
   "cell_type": "code",
   "execution_count": 10,
   "id": "17c3b7e6",
   "metadata": {},
   "outputs": [
    {
     "data": {
      "text/html": [
       "<div>\n",
       "<style scoped>\n",
       "    .dataframe tbody tr th:only-of-type {\n",
       "        vertical-align: middle;\n",
       "    }\n",
       "\n",
       "    .dataframe tbody tr th {\n",
       "        vertical-align: top;\n",
       "    }\n",
       "\n",
       "    .dataframe thead th {\n",
       "        text-align: right;\n",
       "    }\n",
       "</style>\n",
       "<table border=\"1\" class=\"dataframe\">\n",
       "  <thead>\n",
       "    <tr style=\"text-align: right;\">\n",
       "      <th></th>\n",
       "      <th>No</th>\n",
       "      <th>Tanggal</th>\n",
       "      <th>Kode Pelanggan</th>\n",
       "      <th>Nama Pelanggan</th>\n",
       "      <th>Kode Produk</th>\n",
       "      <th>Nama Produk</th>\n",
       "      <th>Qty</th>\n",
       "      <th>Harga Satuan</th>\n",
       "      <th>Total Penjualan</th>\n",
       "      <th>Diskon</th>\n",
       "      <th>Penjualan Bersih</th>\n",
       "    </tr>\n",
       "  </thead>\n",
       "  <tbody>\n",
       "    <tr>\n",
       "      <th>0</th>\n",
       "      <td>1</td>\n",
       "      <td>1-Aug</td>\n",
       "      <td>NF-01</td>\n",
       "      <td>Toko Nofri</td>\n",
       "      <td>B-05</td>\n",
       "      <td>Besi 5 Meter</td>\n",
       "      <td>340</td>\n",
       "      <td>200000</td>\n",
       "      <td>68000000</td>\n",
       "      <td>0.1</td>\n",
       "      <td>61200000</td>\n",
       "    </tr>\n",
       "    <tr>\n",
       "      <th>1</th>\n",
       "      <td>2</td>\n",
       "      <td>1-Aug</td>\n",
       "      <td>AN-02</td>\n",
       "      <td>Toko Anton</td>\n",
       "      <td>B-10</td>\n",
       "      <td>Besi 10 Meter</td>\n",
       "      <td>140</td>\n",
       "      <td>375000</td>\n",
       "      <td>52500000</td>\n",
       "      <td>0.0</td>\n",
       "      <td>52500000</td>\n",
       "    </tr>\n",
       "    <tr>\n",
       "      <th>2</th>\n",
       "      <td>3</td>\n",
       "      <td>1-Aug</td>\n",
       "      <td>CT-03</td>\n",
       "      <td>Toko Central</td>\n",
       "      <td>P-5</td>\n",
       "      <td>Pipa 5 Meter</td>\n",
       "      <td>560</td>\n",
       "      <td>100000</td>\n",
       "      <td>56000000</td>\n",
       "      <td>0.2</td>\n",
       "      <td>44800000</td>\n",
       "    </tr>\n",
       "    <tr>\n",
       "      <th>3</th>\n",
       "      <td>4</td>\n",
       "      <td>2-Aug</td>\n",
       "      <td>CT-03</td>\n",
       "      <td>Toko Central</td>\n",
       "      <td>P-10</td>\n",
       "      <td>Pipa 10 Meter</td>\n",
       "      <td>230</td>\n",
       "      <td>185000</td>\n",
       "      <td>42550000</td>\n",
       "      <td>0.1</td>\n",
       "      <td>38295000</td>\n",
       "    </tr>\n",
       "    <tr>\n",
       "      <th>4</th>\n",
       "      <td>5</td>\n",
       "      <td>2-Aug</td>\n",
       "      <td>AN-02</td>\n",
       "      <td>Toko Anton</td>\n",
       "      <td>B-05</td>\n",
       "      <td>Besi 5 Meter</td>\n",
       "      <td>770</td>\n",
       "      <td>200000</td>\n",
       "      <td>154000000</td>\n",
       "      <td>0.2</td>\n",
       "      <td>123200000</td>\n",
       "    </tr>\n",
       "  </tbody>\n",
       "</table>\n",
       "</div>"
      ],
      "text/plain": [
       "   No Tanggal Kode Pelanggan Nama Pelanggan Kode Produk    Nama Produk  Qty  \\\n",
       "0   1   1-Aug          NF-01     Toko Nofri        B-05   Besi 5 Meter  340   \n",
       "1   2   1-Aug          AN-02     Toko Anton        B-10  Besi 10 Meter  140   \n",
       "2   3   1-Aug          CT-03   Toko Central         P-5   Pipa 5 Meter  560   \n",
       "3   4   2-Aug          CT-03   Toko Central        P-10  Pipa 10 Meter  230   \n",
       "4   5   2-Aug          AN-02     Toko Anton        B-05   Besi 5 Meter  770   \n",
       "\n",
       "   Harga Satuan  Total Penjualan  Diskon  Penjualan Bersih  \n",
       "0        200000         68000000     0.1          61200000  \n",
       "1        375000         52500000     0.0          52500000  \n",
       "2        100000         56000000     0.2          44800000  \n",
       "3        185000         42550000     0.1          38295000  \n",
       "4        200000        154000000     0.2         123200000  "
      ]
     },
     "execution_count": 10,
     "metadata": {},
     "output_type": "execute_result"
    }
   ],
   "source": [
    "df = pd.read_csv('Data.csv')\n",
    "df.head()"
   ]
  },
  {
   "cell_type": "code",
   "execution_count": 11,
   "id": "6e725074",
   "metadata": {},
   "outputs": [
    {
     "name": "stdout",
     "output_type": "stream",
     "text": [
      "    No Tanggal Kode Pelanggan Nama Pelanggan Kode Produk    Nama Produk  Qty  Harga Satuan  Total Penjualan  Diskon  Penjualan Bersih\n",
      "0    1   1-Aug          NF-01     Toko Nofri        B-05   Besi 5 Meter  340        200000         68000000     0.1          61200000\n",
      "1    2   1-Aug          AN-02     Toko Anton        B-10  Besi 10 Meter  140        375000         52500000     0.0          52500000\n",
      "2    3   1-Aug          CT-03   Toko Central         P-5   Pipa 5 Meter  560        100000         56000000     0.2          44800000\n",
      "3    4   2-Aug          CT-03   Toko Central        P-10  Pipa 10 Meter  230        185000         42550000     0.1          38295000\n",
      "4    5   2-Aug          AN-02     Toko Anton        B-05   Besi 5 Meter  770        200000        154000000     0.2         123200000\n",
      "5    6   2-Aug          NF-01     Toko Nofri        B-10  Besi 10 Meter  780        375000        292500000     0.2         234000000\n",
      "6    7   2-Aug          AN-02     Toko Anton         P-5   Pipa 5 Meter  300        100000         30000000     0.1          27000000\n",
      "7    8   2-Aug          NF-01     Toko Nofri        P-10  Pipa 10 Meter  790        185000        146150000     0.2         116920000\n",
      "8    9   2-Aug          CT-03   Toko Central        B-05   Besi 5 Meter  440        200000         88000000     0.1          79200000\n",
      "9   10   2-Aug          AN-02     Toko Anton        B-10  Besi 10 Meter  130        375000         48750000     0.0          48750000\n",
      "10  11   3-Aug          NF-01     Toko Nofri         P-5   Pipa 5 Meter  360        100000         36000000     0.1          32400000\n",
      "11  12   3-Aug          NF-01     Toko Nofri        P-10  Pipa 10 Meter  120        185000         22200000     0.0          22200000\n",
      "12  13   3-Aug          AN-02     Toko Anton         P-5   Pipa 5 Meter  120        100000         12000000     0.0          12000000\n",
      "13  14   3-Aug          NF-01     Toko Nofri        P-10  Pipa 10 Meter  720        185000        133200000     0.2         106560000\n",
      "14  15   3-Aug          CT-03   Toko Central        P-10  Pipa 10 Meter  250        185000         46250000     0.1          41625000\n"
     ]
    }
   ],
   "source": [
    "# Load the CSV into a DataFrame\n",
    "print(df.to_string())"
   ]
  },
  {
   "cell_type": "code",
   "execution_count": 12,
   "id": "2adc8534",
   "metadata": {},
   "outputs": [
    {
     "name": "stdout",
     "output_type": "stream",
     "text": [
      "    No Tanggal Kode Pelanggan Nama Pelanggan Kode Produk    Nama Produk  Qty  \\\n",
      "0    1   1-Aug          NF-01     Toko Nofri        B-05   Besi 5 Meter  340   \n",
      "1    2   1-Aug          AN-02     Toko Anton        B-10  Besi 10 Meter  140   \n",
      "2    3   1-Aug          CT-03   Toko Central         P-5   Pipa 5 Meter  560   \n",
      "3    4   2-Aug          CT-03   Toko Central        P-10  Pipa 10 Meter  230   \n",
      "4    5   2-Aug          AN-02     Toko Anton        B-05   Besi 5 Meter  770   \n",
      "5    6   2-Aug          NF-01     Toko Nofri        B-10  Besi 10 Meter  780   \n",
      "6    7   2-Aug          AN-02     Toko Anton         P-5   Pipa 5 Meter  300   \n",
      "7    8   2-Aug          NF-01     Toko Nofri        P-10  Pipa 10 Meter  790   \n",
      "8    9   2-Aug          CT-03   Toko Central        B-05   Besi 5 Meter  440   \n",
      "9   10   2-Aug          AN-02     Toko Anton        B-10  Besi 10 Meter  130   \n",
      "10  11   3-Aug          NF-01     Toko Nofri         P-5   Pipa 5 Meter  360   \n",
      "11  12   3-Aug          NF-01     Toko Nofri        P-10  Pipa 10 Meter  120   \n",
      "12  13   3-Aug          AN-02     Toko Anton         P-5   Pipa 5 Meter  120   \n",
      "13  14   3-Aug          NF-01     Toko Nofri        P-10  Pipa 10 Meter  720   \n",
      "14  15   3-Aug          CT-03   Toko Central        P-10  Pipa 10 Meter  250   \n",
      "\n",
      "    Harga Satuan  Total Penjualan  Diskon  Penjualan Bersih  \n",
      "0         200000         68000000     0.1          61200000  \n",
      "1         375000         52500000     0.0          52500000  \n",
      "2         100000         56000000     0.2          44800000  \n",
      "3         185000         42550000     0.1          38295000  \n",
      "4         200000        154000000     0.2         123200000  \n",
      "5         375000        292500000     0.2         234000000  \n",
      "6         100000         30000000     0.1          27000000  \n",
      "7         185000        146150000     0.2         116920000  \n",
      "8         200000         88000000     0.1          79200000  \n",
      "9         375000         48750000     0.0          48750000  \n",
      "10        100000         36000000     0.1          32400000  \n",
      "11        185000         22200000     0.0          22200000  \n",
      "12        100000         12000000     0.0          12000000  \n",
      "13        185000        133200000     0.2         106560000  \n",
      "14        185000         46250000     0.1          41625000  \n"
     ]
    }
   ],
   "source": [
    "# Print the DataFrame without the to_string() method\n",
    "print(df)"
   ]
  },
  {
   "cell_type": "code",
   "execution_count": 13,
   "id": "8fa6e7fc",
   "metadata": {},
   "outputs": [
    {
     "name": "stdout",
     "output_type": "stream",
     "text": [
      "60\n"
     ]
    }
   ],
   "source": [
    "# Check the number of maximum returned rows\n",
    "print(pd.options.display.max_rows) "
   ]
  },
  {
   "cell_type": "raw",
   "id": "5374f284",
   "metadata": {},
   "source": [
    "In my system the number is 60, which means that if the DataFrame contains more than 60 rows, the print(df) statement will return only the headers and the first and last 5 rows.\n",
    "You can change the maximum rows number with the same statement."
   ]
  },
  {
   "cell_type": "code",
   "execution_count": 14,
   "id": "6654c012",
   "metadata": {},
   "outputs": [
    {
     "name": "stdout",
     "output_type": "stream",
     "text": [
      "    No Tanggal Kode Pelanggan Nama Pelanggan Kode Produk    Nama Produk  Qty  \\\n",
      "0    1   1-Aug          NF-01     Toko Nofri        B-05   Besi 5 Meter  340   \n",
      "1    2   1-Aug          AN-02     Toko Anton        B-10  Besi 10 Meter  140   \n",
      "2    3   1-Aug          CT-03   Toko Central         P-5   Pipa 5 Meter  560   \n",
      "3    4   2-Aug          CT-03   Toko Central        P-10  Pipa 10 Meter  230   \n",
      "4    5   2-Aug          AN-02     Toko Anton        B-05   Besi 5 Meter  770   \n",
      "5    6   2-Aug          NF-01     Toko Nofri        B-10  Besi 10 Meter  780   \n",
      "6    7   2-Aug          AN-02     Toko Anton         P-5   Pipa 5 Meter  300   \n",
      "7    8   2-Aug          NF-01     Toko Nofri        P-10  Pipa 10 Meter  790   \n",
      "8    9   2-Aug          CT-03   Toko Central        B-05   Besi 5 Meter  440   \n",
      "9   10   2-Aug          AN-02     Toko Anton        B-10  Besi 10 Meter  130   \n",
      "10  11   3-Aug          NF-01     Toko Nofri         P-5   Pipa 5 Meter  360   \n",
      "11  12   3-Aug          NF-01     Toko Nofri        P-10  Pipa 10 Meter  120   \n",
      "12  13   3-Aug          AN-02     Toko Anton         P-5   Pipa 5 Meter  120   \n",
      "13  14   3-Aug          NF-01     Toko Nofri        P-10  Pipa 10 Meter  720   \n",
      "14  15   3-Aug          CT-03   Toko Central        P-10  Pipa 10 Meter  250   \n",
      "\n",
      "    Harga Satuan  Total Penjualan  Diskon  Penjualan Bersih  \n",
      "0         200000         68000000     0.1          61200000  \n",
      "1         375000         52500000     0.0          52500000  \n",
      "2         100000         56000000     0.2          44800000  \n",
      "3         185000         42550000     0.1          38295000  \n",
      "4         200000        154000000     0.2         123200000  \n",
      "5         375000        292500000     0.2         234000000  \n",
      "6         100000         30000000     0.1          27000000  \n",
      "7         185000        146150000     0.2         116920000  \n",
      "8         200000         88000000     0.1          79200000  \n",
      "9         375000         48750000     0.0          48750000  \n",
      "10        100000         36000000     0.1          32400000  \n",
      "11        185000         22200000     0.0          22200000  \n",
      "12        100000         12000000     0.0          12000000  \n",
      "13        185000        133200000     0.2         106560000  \n",
      "14        185000         46250000     0.1          41625000  \n"
     ]
    }
   ],
   "source": [
    "# Increase the maximum number of rows to display the entire DataFrame\n",
    "pd.options.display.max_rows = 9999\n",
    "df = pd.read_csv('Data.csv')\n",
    "print(df) "
   ]
  },
  {
   "cell_type": "markdown",
   "id": "21dec148",
   "metadata": {},
   "source": [
    "# Pandas Read JSON Files"
   ]
  },
  {
   "cell_type": "raw",
   "id": "dbde0ef9",
   "metadata": {},
   "source": [
    "Big data sets are often stored, or extracted as JSON.\n",
    "JSON is plain text, but has the format of an object, and is well known in the world of programming, including Pandas.\n",
    "In our examples we will be using a JSON file called 'data.json'.\n"
   ]
  },
  {
   "cell_type": "code",
   "execution_count": 15,
   "id": "fb3a9dfe",
   "metadata": {},
   "outputs": [
    {
     "name": "stdout",
     "output_type": "stream",
     "text": [
      "     sepalLength  sepalWidth  petalLength  petalWidth     species\n",
      "0            5.1         3.5          1.4         0.2      setosa\n",
      "1            4.9         3.0          1.4         0.2      setosa\n",
      "2            4.7         3.2          1.3         0.2      setosa\n",
      "3            4.6         3.1          1.5         0.2      setosa\n",
      "4            5.0         3.6          1.4         0.2      setosa\n",
      "5            5.4         3.9          1.7         0.4      setosa\n",
      "6            4.6         3.4          1.4         0.3      setosa\n",
      "7            5.0         3.4          1.5         0.2      setosa\n",
      "8            4.4         2.9          1.4         0.2      setosa\n",
      "9            4.9         3.1          1.5         0.1      setosa\n",
      "10           5.4         3.7          1.5         0.2      setosa\n",
      "11           4.8         3.4          1.6         0.2      setosa\n",
      "12           4.8         3.0          1.4         0.1      setosa\n",
      "13           4.3         3.0          1.1         0.1      setosa\n",
      "14           5.8         4.0          1.2         0.2      setosa\n",
      "15           5.7         4.4          1.5         0.4      setosa\n",
      "16           5.4         3.9          1.3         0.4      setosa\n",
      "17           5.1         3.5          1.4         0.3      setosa\n",
      "18           5.7         3.8          1.7         0.3      setosa\n",
      "19           5.1         3.8          1.5         0.3      setosa\n",
      "20           5.4         3.4          1.7         0.2      setosa\n",
      "21           5.1         3.7          1.5         0.4      setosa\n",
      "22           4.6         3.6          1.0         0.2      setosa\n",
      "23           5.1         3.3          1.7         0.5      setosa\n",
      "24           4.8         3.4          1.9         0.2      setosa\n",
      "25           5.0         3.0          1.6         0.2      setosa\n",
      "26           5.0         3.4          1.6         0.4      setosa\n",
      "27           5.2         3.5          1.5         0.2      setosa\n",
      "28           5.2         3.4          1.4         0.2      setosa\n",
      "29           4.7         3.2          1.6         0.2      setosa\n",
      "30           4.8         3.1          1.6         0.2      setosa\n",
      "31           5.4         3.4          1.5         0.4      setosa\n",
      "32           5.2         4.1          1.5         0.1      setosa\n",
      "33           5.5         4.2          1.4         0.2      setosa\n",
      "34           4.9         3.1          1.5         0.2      setosa\n",
      "35           5.0         3.2          1.2         0.2      setosa\n",
      "36           5.5         3.5          1.3         0.2      setosa\n",
      "37           4.9         3.6          1.4         0.1      setosa\n",
      "38           4.4         3.0          1.3         0.2      setosa\n",
      "39           5.1         3.4          1.5         0.2      setosa\n",
      "40           5.0         3.5          1.3         0.3      setosa\n",
      "41           4.5         2.3          1.3         0.3      setosa\n",
      "42           4.4         3.2          1.3         0.2      setosa\n",
      "43           5.0         3.5          1.6         0.6      setosa\n",
      "44           5.1         3.8          1.9         0.4      setosa\n",
      "45           4.8         3.0          1.4         0.3      setosa\n",
      "46           5.1         3.8          1.6         0.2      setosa\n",
      "47           4.6         3.2          1.4         0.2      setosa\n",
      "48           5.3         3.7          1.5         0.2      setosa\n",
      "49           5.0         3.3          1.4         0.2      setosa\n",
      "50           7.0         3.2          4.7         1.4  versicolor\n",
      "51           6.4         3.2          4.5         1.5  versicolor\n",
      "52           6.9         3.1          4.9         1.5  versicolor\n",
      "53           5.5         2.3          4.0         1.3  versicolor\n",
      "54           6.5         2.8          4.6         1.5  versicolor\n",
      "55           5.7         2.8          4.5         1.3  versicolor\n",
      "56           6.3         3.3          4.7         1.6  versicolor\n",
      "57           4.9         2.4          3.3         1.0  versicolor\n",
      "58           6.6         2.9          4.6         1.3  versicolor\n",
      "59           5.2         2.7          3.9         1.4  versicolor\n",
      "60           5.0         2.0          3.5         1.0  versicolor\n",
      "61           5.9         3.0          4.2         1.5  versicolor\n",
      "62           6.0         2.2          4.0         1.0  versicolor\n",
      "63           6.1         2.9          4.7         1.4  versicolor\n",
      "64           5.6         2.9          3.6         1.3  versicolor\n",
      "65           6.7         3.1          4.4         1.4  versicolor\n",
      "66           5.6         3.0          4.5         1.5  versicolor\n",
      "67           5.8         2.7          4.1         1.0  versicolor\n",
      "68           6.2         2.2          4.5         1.5  versicolor\n",
      "69           5.6         2.5          3.9         1.1  versicolor\n",
      "70           5.9         3.2          4.8         1.8  versicolor\n",
      "71           6.1         2.8          4.0         1.3  versicolor\n",
      "72           6.3         2.5          4.9         1.5  versicolor\n",
      "73           6.1         2.8          4.7         1.2  versicolor\n",
      "74           6.4         2.9          4.3         1.3  versicolor\n",
      "75           6.6         3.0          4.4         1.4  versicolor\n",
      "76           6.8         2.8          4.8         1.4  versicolor\n",
      "77           6.7         3.0          5.0         1.7  versicolor\n",
      "78           6.0         2.9          4.5         1.5  versicolor\n",
      "79           5.7         2.6          3.5         1.0  versicolor\n",
      "80           5.5         2.4          3.8         1.1  versicolor\n",
      "81           5.5         2.4          3.7         1.0  versicolor\n",
      "82           5.8         2.7          3.9         1.2  versicolor\n",
      "83           6.0         2.7          5.1         1.6  versicolor\n",
      "84           5.4         3.0          4.5         1.5  versicolor\n",
      "85           6.0         3.4          4.5         1.6  versicolor\n",
      "86           6.7         3.1          4.7         1.5  versicolor\n",
      "87           6.3         2.3          4.4         1.3  versicolor\n",
      "88           5.6         3.0          4.1         1.3  versicolor\n",
      "89           5.5         2.5          4.0         1.3  versicolor\n",
      "90           5.5         2.6          4.4         1.2  versicolor\n",
      "91           6.1         3.0          4.6         1.4  versicolor\n",
      "92           5.8         2.6          4.0         1.2  versicolor\n",
      "93           5.0         2.3          3.3         1.0  versicolor\n",
      "94           5.6         2.7          4.2         1.3  versicolor\n",
      "95           5.7         3.0          4.2         1.2  versicolor\n",
      "96           5.7         2.9          4.2         1.3  versicolor\n",
      "97           6.2         2.9          4.3         1.3  versicolor\n",
      "98           5.1         2.5          3.0         1.1  versicolor\n",
      "99           5.7         2.8          4.1         1.3  versicolor\n",
      "100          6.3         3.3          6.0         2.5   virginica\n",
      "101          5.8         2.7          5.1         1.9   virginica\n",
      "102          7.1         3.0          5.9         2.1   virginica\n",
      "103          6.3         2.9          5.6         1.8   virginica\n",
      "104          6.5         3.0          5.8         2.2   virginica\n",
      "105          7.6         3.0          6.6         2.1   virginica\n",
      "106          4.9         2.5          4.5         1.7   virginica\n",
      "107          7.3         2.9          6.3         1.8   virginica\n",
      "108          6.7         2.5          5.8         1.8   virginica\n",
      "109          7.2         3.6          6.1         2.5   virginica\n",
      "110          6.5         3.2          5.1         2.0   virginica\n",
      "111          6.4         2.7          5.3         1.9   virginica\n",
      "112          6.8         3.0          5.5         2.1   virginica\n",
      "113          5.7         2.5          5.0         2.0   virginica\n",
      "114          5.8         2.8          5.1         2.4   virginica\n",
      "115          6.4         3.2          5.3         2.3   virginica\n",
      "116          6.5         3.0          5.5         1.8   virginica\n",
      "117          7.7         3.8          6.7         2.2   virginica\n",
      "118          7.7         2.6          6.9         2.3   virginica\n",
      "119          6.0         2.2          5.0         1.5   virginica\n",
      "120          6.9         3.2          5.7         2.3   virginica\n",
      "121          5.6         2.8          4.9         2.0   virginica\n",
      "122          7.7         2.8          6.7         2.0   virginica\n",
      "123          6.3         2.7          4.9         1.8   virginica\n",
      "124          6.7         3.3          5.7         2.1   virginica\n",
      "125          7.2         3.2          6.0         1.8   virginica\n",
      "126          6.2         2.8          4.8         1.8   virginica\n",
      "127          6.1         3.0          4.9         1.8   virginica\n",
      "128          6.4         2.8          5.6         2.1   virginica\n",
      "129          7.2         3.0          5.8         1.6   virginica\n",
      "130          7.4         2.8          6.1         1.9   virginica\n",
      "131          7.9         3.8          6.4         2.0   virginica\n",
      "132          6.4         2.8          5.6         2.2   virginica\n",
      "133          6.3         2.8          5.1         1.5   virginica\n",
      "134          6.1         2.6          5.6         1.4   virginica\n",
      "135          7.7         3.0          6.1         2.3   virginica\n",
      "136          6.3         3.4          5.6         2.4   virginica\n",
      "137          6.4         3.1          5.5         1.8   virginica\n",
      "138          6.0         3.0          4.8         1.8   virginica\n",
      "139          6.9         3.1          5.4         2.1   virginica\n",
      "140          6.7         3.1          5.6         2.4   virginica\n",
      "141          6.9         3.1          5.1         2.3   virginica\n",
      "142          5.8         2.7          5.1         1.9   virginica\n",
      "143          6.8         3.2          5.9         2.3   virginica\n",
      "144          6.7         3.3          5.7         2.5   virginica\n",
      "145          6.7         3.0          5.2         2.3   virginica\n",
      "146          6.3         2.5          5.0         1.9   virginica\n",
      "147          6.5         3.0          5.2         2.0   virginica\n",
      "148          6.2         3.4          5.4         2.3   virginica\n",
      "149          5.9         3.0          5.1         1.8   virginica\n"
     ]
    }
   ],
   "source": [
    "import pandas as pd\n",
    "\n",
    "df = pd.read_json('iris.json')\n",
    "\n",
    "print(df.to_string())"
   ]
  },
  {
   "cell_type": "code",
   "execution_count": 16,
   "id": "41a71f86",
   "metadata": {},
   "outputs": [
    {
     "name": "stdout",
     "output_type": "stream",
     "text": [
      "   Duration  Pulse  Maxpulse  Calories\n",
      "0        60    110       130       409\n",
      "1        60    117       145       479\n",
      "2        60    103       135       340\n",
      "3        45    109       175       282\n",
      "4        45    117       148       406\n",
      "5        60    102       127       300\n"
     ]
    }
   ],
   "source": [
    "# Load a Python Dictionary into a DataFrame\n",
    "data = {\n",
    "  \"Duration\":{\n",
    "    \"0\":60,\n",
    "    \"1\":60,\n",
    "    \"2\":60,\n",
    "    \"3\":45,\n",
    "    \"4\":45,\n",
    "    \"5\":60\n",
    "  },\n",
    "  \"Pulse\":{\n",
    "    \"0\":110,\n",
    "    \"1\":117,\n",
    "    \"2\":103,\n",
    "    \"3\":109,\n",
    "    \"4\":117,\n",
    "    \"5\":102\n",
    "  },\n",
    "  \"Maxpulse\":{\n",
    "    \"0\":130,\n",
    "    \"1\":145,\n",
    "    \"2\":135,\n",
    "    \"3\":175,\n",
    "    \"4\":148,\n",
    "    \"5\":127\n",
    "  },\n",
    "  \"Calories\":{\n",
    "    \"0\":409,\n",
    "    \"1\":479,\n",
    "    \"2\":340,\n",
    "    \"3\":282,\n",
    "    \"4\":406,\n",
    "    \"5\":300\n",
    "  }\n",
    "}\n",
    "\n",
    "df = pd.DataFrame(data)\n",
    "\n",
    "print(df)"
   ]
  },
  {
   "cell_type": "raw",
   "id": "d2a7db4e",
   "metadata": {},
   "source": [
    "source : \n",
    "https://www.w3schools.com/python/pandas/default.asp "
   ]
  }
 ],
 "metadata": {
  "kernelspec": {
   "display_name": "Python 3 (ipykernel)",
   "language": "python",
   "name": "python3"
  },
  "language_info": {
   "codemirror_mode": {
    "name": "ipython",
    "version": 3
   },
   "file_extension": ".py",
   "mimetype": "text/x-python",
   "name": "python",
   "nbconvert_exporter": "python",
   "pygments_lexer": "ipython3",
   "version": "3.9.12"
  }
 },
 "nbformat": 4,
 "nbformat_minor": 5
}
